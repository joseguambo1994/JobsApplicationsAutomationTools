{
 "cells": [
  {
   "cell_type": "code",
   "execution_count": 98,
   "metadata": {},
   "outputs": [
    {
     "name": "stdout",
     "output_type": "stream",
     "text": [
      "          Date                                      Company                                     Mail          Unnamed: 3\n",
      "0   17/05/2023                              Bluecouh AI Inc                      asgari@bluecouch.ai                 NaN\n",
      "1   17/05/2023                     ADVENT INFRATECH LIMITED          jobsatadventinfratech@gmail.com                 NaN\n",
      "2   17/05/2023                    Abbey Cedar Products Ltd.                hr@abbeycedarproducts.com                 NaN\n",
      "3   18/05/2023              COS Educational Consulting Inc.             recruitment@cosvancouver.com                 NaN\n",
      "4   21/05/2023                                  The CompDoc                       jobs@thecompdoc.ca                 NaN\n",
      "5   21/05/2023                 Insta Software Solution Inc            jobs.instasoftware47@gmail.com                 NaN\n",
      "6   25/05/2023                             Inforockets Inc.                     assavbayev@gmail.com                 NaN\n",
      "7   30/05/2023                        MyLegacy Web Services             info@mylegacywebservices.com                 NaN\n",
      "8   31/05/2023          AVN IT Consulting And Services Inc.                 nehakhatri4083@gmail.com                 NaN\n",
      "9   02/06/2023                                   Volkswagen  https://www.vwds.pt/job/junior-program/  Junior Engineering\n",
      "10  05/06/2023                             My Canada Payday            westrockfinancialbc@gmail.com                 NaN\n",
      "11  05/06/2023  Employer detailsPower Grid Innovations Inc.              hr@powergridinnovations.com                 NaN\n",
      "12  06/06/2023            ENERGEX POWER SAVER SYSTEMS INC.                  jobs.energex@outlook.com                 NaN\n",
      "13  06/06/2023                  Acloudedge Technologies Inc      acloudedgetechnologiesinc@gmail.com                 NaN\n",
      "14  06/06/2023                                  Cardiai Inc           careers.cardiaiinc@outlook.com                 NaN\n",
      "15  07/06/2023                          Yukt Marketing INC                    yuktsoftware@gmail.com                 NaN\n",
      "16  09/06/2023                     Evo In Motion Technology                 hiring@eimtechnology.com                 NaN\n",
      "17  09/06/2023                                APS Tech Corp                  jobsatapstech@gmail.com                 NaN\n",
      "18  13/06/2023            ACTRONICS TECHNOLOGY SOLUTION INC             info@actronicstechnology.com                 NaN\n",
      "19  13/06/2023                 Insta Software Solution Inc                 instasoftware44@gmail.com                 NaN\n",
      "20  13/06/2023                             Glora Networking                gloranetworking@gmail.com                 NaN\n",
      "21  17/06/2023                        Canadian Systems Inc.                admin@canadiansystems.net                 NaN\n",
      "22  17/06/2023                       Fleetex Transport Ltd.                    fleetexjobs@gmail.com                 NaN\n",
      "23  17/06/2023                               6D Design Inc.                 hiring6ddesign@gmail.com                 NaN\n",
      "24  17/06/2023                           Janvi Alberta Ltd.                            info@janvi.ca                 NaN\n",
      "25  17/06/2023                       Next Gen Com Tech Inc.                 jobs.nextgen@outlook.com                 NaN\n",
      "26  27/06/2023                              Berry Tech Inc.                       info@berry-tech.ca                 NaN\n",
      "27  27/06/2023                  Edgetch HVAC Services Ltd.                      hr.edgetch@gmail.com                 NaN\n",
      "28  27/06/2023              Veda Web and IT Solutions Inc.           vedawebanditsolutions@gmail.com                 NaN\n",
      "29  28/06/2023                    EARLY MAN CONSULTING INC.                     ysrinath@earlyman.ca                 NaN\n",
      "30  29/06/2023                   Linear Algo Solutions Inc.                      info@linearalgo.com                 NaN\n",
      "31  29/06/2023               IT WebLand Ontario Corporation                       info@itwebland.com                 NaN\n",
      "32  29/06/2023                     Gokabu Technologies Inc.                   applications@gokabu.ca                 NaN\n"
     ]
    }
   ],
   "source": [
    "import pandas as pd\n",
    "\n",
    "df = pd.read_csv('JobsData.csv')\n",
    "\n",
    "print(df.to_string()) "
   ]
  },
  {
   "cell_type": "code",
   "execution_count": 99,
   "metadata": {},
   "outputs": [],
   "source": [
    "def getString (company: str, email: str) -> str:\n",
    "     f = open(\"EmailBody.txt\", \"a\")\n",
    "     text = email + '\\n\\n'\n",
    "     text += 'Software Developer Position - Ecuadorian\\n\\n'\n",
    "     text +=  'Greetings ' + company + ' recruiting team,\\n\\n'\n",
    "     text += 'I would like to apply for the software developer position. I meet all the requirements listed. I am Ecuadorian and currently located in Ecuador. Please find my resume attached. I would love to hear back from you.\\n\\n'\n",
    "     text += 'Thanks for your time.'\n",
    "     text += '\\n\\n-------------------------------------------------------\\n\\n'\n",
    "     f.write(text)\n",
    "     f.close()\n",
    "     return "
   ]
  },
  {
   "cell_type": "code",
   "execution_count": 100,
   "metadata": {},
   "outputs": [],
   "source": [
    "def getEmailBody(dataframe: pd.DataFrame) -> str:\n",
    "\n",
    "    queriedDataFrame = dataframe.query('`Date` == \"03/07/2023\"')[['Date', 'Company', 'Mail']]\n",
    "    queriedDataFrame.apply(lambda x: getString(x[1], x[2]), axis=1)\n",
    "    return 'Hello '\n",
    "\n"
   ]
  },
  {
   "cell_type": "code",
   "execution_count": 101,
   "metadata": {},
   "outputs": [
    {
     "name": "stdout",
     "output_type": "stream",
     "text": [
      "info@linearalgo.com\n",
      "\n",
      "Greetings Linear Algo Solutions Inc. recruiting team,\n",
      "\n",
      "I would like to apply for the software developer position. I meet all the requirements listed. I am Ecuadorian and currently located in Ecuador. Please find my resume attached. I would love to hear back from you.\n",
      "\n",
      "Thanks for your time.\n",
      "\n",
      "-------------------------------------------------------\n",
      "\n",
      "info@itwebland.com\n",
      "\n",
      "Greetings IT WebLand Ontario Corporation recruiting team,\n",
      "\n",
      "I would like to apply for the software developer position. I meet all the requirements listed. I am Ecuadorian and currently located in Ecuador. Please find my resume attached. I would love to hear back from you.\n",
      "\n",
      "Thanks for your time.\n",
      "\n",
      "-------------------------------------------------------\n",
      "\n",
      "applications@gokabu.ca\n",
      "\n",
      "Greetings Gokabu Technologies Inc. recruiting team,\n",
      "\n",
      "I would like to apply for the software developer position. I meet all the requirements listed. I am Ecuadorian and currently located in Ecuador. Please find my resume attached. I would love to hear back from you.\n",
      "\n",
      "Thanks for your time.\n",
      "\n",
      "-------------------------------------------------------\n",
      "\n",
      "\n"
     ]
    }
   ],
   "source": [
    "r = open(\"EmailBody.txt\", \"w\")\n",
    "getEmailBody(df)\n",
    "#open and read the file after the appending:\n",
    "f = open(\"EmailBody.txt\", \"r\")\n",
    "print(f.read())"
   ]
  }
 ],
 "metadata": {
  "kernelspec": {
   "display_name": "Python 3",
   "language": "python",
   "name": "python3"
  },
  "language_info": {
   "codemirror_mode": {
    "name": "ipython",
    "version": 3
   },
   "file_extension": ".py",
   "mimetype": "text/x-python",
   "name": "python",
   "nbconvert_exporter": "python",
   "pygments_lexer": "ipython3",
   "version": "3.11.4"
  },
  "orig_nbformat": 4
 },
 "nbformat": 4,
 "nbformat_minor": 2
}
